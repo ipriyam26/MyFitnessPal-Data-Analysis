{
  "cells": [
    {
      "cell_type": "markdown",
      "metadata": {
        "id": "NJ_CV0jl2pH0"
      },
      "source": [
        "# **Participant 08 Data Analysis**"
      ]
    },
    {
      "cell_type": "markdown",
      "metadata": {
        "id": "4Yx-mjpX39Sz"
      },
      "source": [
        "## Introduction"
      ]
    },
    {
      "cell_type": "markdown",
      "metadata": {
        "id": "29YQSq7o20gS"
      },
      "source": [
        "Author: Aashika Agarwal\n",
        "\n",
        "Goal: In this process notebook, we would explore the Participant08 dataset.\n",
        "\n",
        "About the dataset: This dataset contains the step count for a participant from January 1, 2022 till September 12, 2022. This data was creted by users using the Apple Health app. Secveral participants were mailed by DATA3406 teaching staff for the data, the ones who gave consent used the app to send over the data. We are gpoing to look at the dataset provided by one such participant. We do not have much personal information about the participant under consideration."
      ]
    },
    {
      "cell_type": "markdown",
      "metadata": {
        "id": "ioiSYXre2una"
      },
      "source": [
        "## Initial Data Analysis\n",
        "\n",
        "### Importing Packages\n",
        "\n",
        "We will now import the packages that we would need for data exploration"
      ]
    },
    {
      "cell_type": "code",
      "execution_count": 2,
      "metadata": {
        "id": "FY6awMl82pPq"
      },
      "outputs": [],
      "source": [
        "import pandas as pd\n",
        "import matplotlib.pyplot as plt\n",
        "from matplotlib.pyplot import figure"
      ]
    },
    {
      "cell_type": "markdown",
      "metadata": {
        "id": "rNPYXoL37UEj"
      },
      "source": [
        "### Reading the datasets"
      ]
    },
    {
      "cell_type": "markdown",
      "metadata": {
        "id": "j_iNTJ-v2pW0"
      },
      "source": [
        "Reading the csv file, and storing the data into a DataFrame."
      ]
    },
    {
      "cell_type": "code",
      "execution_count": 3,
      "metadata": {
        "id": "ZJmqPZ9N2peS"
      },
      "outputs": [],
      "source": [
        "data = pd.read_csv('Participant-08.csv') # reading the CSV file"
      ]
    },
    {
      "cell_type": "markdown",
      "metadata": {
        "id": "1Iohogi52plY"
      },
      "source": [
        "Now, lets have an initial look at the dataset."
      ]
    },
    {
      "cell_type": "code",
      "execution_count": 4,
      "metadata": {
        "colab": {
          "base_uri": "https://localhost:8080/",
          "height": 424
        },
        "id": "_-1f_sWQ2psc",
        "outputId": "cb64af7b-80af-4b3c-fbd7-e68210899e80"
      },
      "outputs": [
        {
          "data": {
            "text/html": [
              "<div>\n",
              "<style scoped>\n",
              "    .dataframe tbody tr th:only-of-type {\n",
              "        vertical-align: middle;\n",
              "    }\n",
              "\n",
              "    .dataframe tbody tr th {\n",
              "        vertical-align: top;\n",
              "    }\n",
              "\n",
              "    .dataframe thead th {\n",
              "        text-align: right;\n",
              "    }\n",
              "</style>\n",
              "<table border=\"1\" class=\"dataframe\">\n",
              "  <thead>\n",
              "    <tr style=\"text-align: right;\">\n",
              "      <th></th>\n",
              "      <th>Start</th>\n",
              "      <th>Finish</th>\n",
              "      <th>Steps (count)</th>\n",
              "    </tr>\n",
              "  </thead>\n",
              "  <tbody>\n",
              "    <tr>\n",
              "      <th>0</th>\n",
              "      <td>01-Jan-2022 00:00</td>\n",
              "      <td>01-Jan-2022 01:00</td>\n",
              "      <td>0.0</td>\n",
              "    </tr>\n",
              "    <tr>\n",
              "      <th>1</th>\n",
              "      <td>01-Jan-2022 01:00</td>\n",
              "      <td>01-Jan-2022 02:00</td>\n",
              "      <td>0.0</td>\n",
              "    </tr>\n",
              "    <tr>\n",
              "      <th>2</th>\n",
              "      <td>01-Jan-2022 02:00</td>\n",
              "      <td>01-Jan-2022 03:00</td>\n",
              "      <td>0.0</td>\n",
              "    </tr>\n",
              "    <tr>\n",
              "      <th>3</th>\n",
              "      <td>01-Jan-2022 03:00</td>\n",
              "      <td>01-Jan-2022 04:00</td>\n",
              "      <td>0.0</td>\n",
              "    </tr>\n",
              "    <tr>\n",
              "      <th>4</th>\n",
              "      <td>01-Jan-2022 04:00</td>\n",
              "      <td>01-Jan-2022 05:00</td>\n",
              "      <td>0.0</td>\n",
              "    </tr>\n",
              "    <tr>\n",
              "      <th>...</th>\n",
              "      <td>...</td>\n",
              "      <td>...</td>\n",
              "      <td>...</td>\n",
              "    </tr>\n",
              "    <tr>\n",
              "      <th>6100</th>\n",
              "      <td>12-Sep-2022 03:00</td>\n",
              "      <td>12-Sep-2022 04:00</td>\n",
              "      <td>0.0</td>\n",
              "    </tr>\n",
              "    <tr>\n",
              "      <th>6101</th>\n",
              "      <td>12-Sep-2022 04:00</td>\n",
              "      <td>12-Sep-2022 05:00</td>\n",
              "      <td>0.0</td>\n",
              "    </tr>\n",
              "    <tr>\n",
              "      <th>6102</th>\n",
              "      <td>12-Sep-2022 05:00</td>\n",
              "      <td>12-Sep-2022 06:00</td>\n",
              "      <td>25.0</td>\n",
              "    </tr>\n",
              "    <tr>\n",
              "      <th>6103</th>\n",
              "      <td>12-Sep-2022 06:00</td>\n",
              "      <td>12-Sep-2022 07:00</td>\n",
              "      <td>0.0</td>\n",
              "    </tr>\n",
              "    <tr>\n",
              "      <th>6104</th>\n",
              "      <td>12-Sep-2022 07:00</td>\n",
              "      <td>12-Sep-2022 08:00</td>\n",
              "      <td>203.0</td>\n",
              "    </tr>\n",
              "  </tbody>\n",
              "</table>\n",
              "<p>6105 rows × 3 columns</p>\n",
              "</div>"
            ],
            "text/plain": [
              "                  Start             Finish  Steps (count)\n",
              "0     01-Jan-2022 00:00  01-Jan-2022 01:00            0.0\n",
              "1     01-Jan-2022 01:00  01-Jan-2022 02:00            0.0\n",
              "2     01-Jan-2022 02:00  01-Jan-2022 03:00            0.0\n",
              "3     01-Jan-2022 03:00  01-Jan-2022 04:00            0.0\n",
              "4     01-Jan-2022 04:00  01-Jan-2022 05:00            0.0\n",
              "...                 ...                ...            ...\n",
              "6100  12-Sep-2022 03:00  12-Sep-2022 04:00            0.0\n",
              "6101  12-Sep-2022 04:00  12-Sep-2022 05:00            0.0\n",
              "6102  12-Sep-2022 05:00  12-Sep-2022 06:00           25.0\n",
              "6103  12-Sep-2022 06:00  12-Sep-2022 07:00            0.0\n",
              "6104  12-Sep-2022 07:00  12-Sep-2022 08:00          203.0\n",
              "\n",
              "[6105 rows x 3 columns]"
            ]
          },
          "execution_count": 4,
          "metadata": {},
          "output_type": "execute_result"
        }
      ],
      "source": [
        "data # printing the data"
      ]
    },
    {
      "cell_type": "markdown",
      "metadata": {
        "id": "Ob774Wj82pzr"
      },
      "source": [
        "We can see that the data has loaded into a dataframe appropriately. It has 6105 rows, and 3 columns. The columns are called \"Start\", \"Finish\", and \"Steps (count)\". The start and finish column refer to the time for which the corresponsing step counts has been recorded.\n",
        "\n"
      ]
    },
    {
      "cell_type": "markdown",
      "metadata": {
        "id": "hXbODfOl7dQH"
      },
      "source": [
        "### Cleaning the dataset"
      ]
    },
    {
      "cell_type": "markdown",
      "metadata": {
        "id": "mzZuZse97f2w"
      },
      "source": [
        "The first thing that we are going to do is check the data type of each variable."
      ]
    },
    {
      "cell_type": "code",
      "execution_count": 5,
      "metadata": {
        "colab": {
          "base_uri": "https://localhost:8080/"
        },
        "id": "8EQZEGmC7k6d",
        "outputId": "503a5790-bcec-4c3f-fac0-fcf8fa0c8efd"
      },
      "outputs": [
        {
          "data": {
            "text/plain": [
              "Start             object\n",
              "Finish            object\n",
              "Steps (count)    float64\n",
              "dtype: object"
            ]
          },
          "execution_count": 5,
          "metadata": {},
          "output_type": "execute_result"
        }
      ],
      "source": [
        "data.dtypes # finding the data types for each column"
      ]
    },
    {
      "cell_type": "markdown",
      "metadata": {
        "id": "d6ArDyQC8IMU"
      },
      "source": [
        "We can see that the start and finish columns are of type object, while step count is of type float64. We will convert start and finish to a datetime object so that we can access the day, date, month, year, and time attribute for each row."
      ]
    },
    {
      "cell_type": "code",
      "execution_count": 6,
      "metadata": {
        "colab": {
          "base_uri": "https://localhost:8080/",
          "height": 424
        },
        "id": "tUhdrsj98guA",
        "outputId": "9cda0fa7-3331-485b-d666-8f10f0603ef9"
      },
      "outputs": [
        {
          "data": {
            "text/html": [
              "<div>\n",
              "<style scoped>\n",
              "    .dataframe tbody tr th:only-of-type {\n",
              "        vertical-align: middle;\n",
              "    }\n",
              "\n",
              "    .dataframe tbody tr th {\n",
              "        vertical-align: top;\n",
              "    }\n",
              "\n",
              "    .dataframe thead th {\n",
              "        text-align: right;\n",
              "    }\n",
              "</style>\n",
              "<table border=\"1\" class=\"dataframe\">\n",
              "  <thead>\n",
              "    <tr style=\"text-align: right;\">\n",
              "      <th></th>\n",
              "      <th>Start</th>\n",
              "      <th>Finish</th>\n",
              "      <th>Steps (count)</th>\n",
              "    </tr>\n",
              "  </thead>\n",
              "  <tbody>\n",
              "    <tr>\n",
              "      <th>0</th>\n",
              "      <td>2022-01-01 00:00:00</td>\n",
              "      <td>2022-01-01 01:00:00</td>\n",
              "      <td>0.0</td>\n",
              "    </tr>\n",
              "    <tr>\n",
              "      <th>1</th>\n",
              "      <td>2022-01-01 01:00:00</td>\n",
              "      <td>2022-01-01 02:00:00</td>\n",
              "      <td>0.0</td>\n",
              "    </tr>\n",
              "    <tr>\n",
              "      <th>2</th>\n",
              "      <td>2022-01-01 02:00:00</td>\n",
              "      <td>2022-01-01 03:00:00</td>\n",
              "      <td>0.0</td>\n",
              "    </tr>\n",
              "    <tr>\n",
              "      <th>3</th>\n",
              "      <td>2022-01-01 03:00:00</td>\n",
              "      <td>2022-01-01 04:00:00</td>\n",
              "      <td>0.0</td>\n",
              "    </tr>\n",
              "    <tr>\n",
              "      <th>4</th>\n",
              "      <td>2022-01-01 04:00:00</td>\n",
              "      <td>2022-01-01 05:00:00</td>\n",
              "      <td>0.0</td>\n",
              "    </tr>\n",
              "    <tr>\n",
              "      <th>...</th>\n",
              "      <td>...</td>\n",
              "      <td>...</td>\n",
              "      <td>...</td>\n",
              "    </tr>\n",
              "    <tr>\n",
              "      <th>6100</th>\n",
              "      <td>2022-09-12 03:00:00</td>\n",
              "      <td>2022-09-12 04:00:00</td>\n",
              "      <td>0.0</td>\n",
              "    </tr>\n",
              "    <tr>\n",
              "      <th>6101</th>\n",
              "      <td>2022-09-12 04:00:00</td>\n",
              "      <td>2022-09-12 05:00:00</td>\n",
              "      <td>0.0</td>\n",
              "    </tr>\n",
              "    <tr>\n",
              "      <th>6102</th>\n",
              "      <td>2022-09-12 05:00:00</td>\n",
              "      <td>2022-09-12 06:00:00</td>\n",
              "      <td>25.0</td>\n",
              "    </tr>\n",
              "    <tr>\n",
              "      <th>6103</th>\n",
              "      <td>2022-09-12 06:00:00</td>\n",
              "      <td>2022-09-12 07:00:00</td>\n",
              "      <td>0.0</td>\n",
              "    </tr>\n",
              "    <tr>\n",
              "      <th>6104</th>\n",
              "      <td>2022-09-12 07:00:00</td>\n",
              "      <td>2022-09-12 08:00:00</td>\n",
              "      <td>203.0</td>\n",
              "    </tr>\n",
              "  </tbody>\n",
              "</table>\n",
              "<p>6105 rows × 3 columns</p>\n",
              "</div>"
            ],
            "text/plain": [
              "                   Start              Finish  Steps (count)\n",
              "0    2022-01-01 00:00:00 2022-01-01 01:00:00            0.0\n",
              "1    2022-01-01 01:00:00 2022-01-01 02:00:00            0.0\n",
              "2    2022-01-01 02:00:00 2022-01-01 03:00:00            0.0\n",
              "3    2022-01-01 03:00:00 2022-01-01 04:00:00            0.0\n",
              "4    2022-01-01 04:00:00 2022-01-01 05:00:00            0.0\n",
              "...                  ...                 ...            ...\n",
              "6100 2022-09-12 03:00:00 2022-09-12 04:00:00            0.0\n",
              "6101 2022-09-12 04:00:00 2022-09-12 05:00:00            0.0\n",
              "6102 2022-09-12 05:00:00 2022-09-12 06:00:00           25.0\n",
              "6103 2022-09-12 06:00:00 2022-09-12 07:00:00            0.0\n",
              "6104 2022-09-12 07:00:00 2022-09-12 08:00:00          203.0\n",
              "\n",
              "[6105 rows x 3 columns]"
            ]
          },
          "execution_count": 6,
          "metadata": {},
          "output_type": "execute_result"
        }
      ],
      "source": [
        "data['Start'] =  pd.to_datetime(data['Start']) # changing Start column from object to datetime data type\n",
        "data['Finish'] =  pd.to_datetime(data['Finish']) # changing Finsih column from object to datetime data type\n",
        "data # printing the data"
      ]
    },
    {
      "cell_type": "markdown",
      "metadata": {
        "id": "d8HhiKyw7uHQ"
      },
      "source": [
        "From the above output, we can see that the data has been converted appropriately to a datetime format. Now we can access each and every date and time attribute separately for analysis.\n",
        "\n",
        "Now, we are going to see if there are any missing values in the dataset."
      ]
    },
    {
      "cell_type": "code",
      "execution_count": 7,
      "metadata": {
        "colab": {
          "base_uri": "https://localhost:8080/"
        },
        "id": "UvRwpQnc7uSR",
        "outputId": "5a8486ce-4b54-4b1e-b38f-a85c85ff5ec1"
      },
      "outputs": [
        {
          "data": {
            "text/plain": [
              "False"
            ]
          },
          "execution_count": 7,
          "metadata": {},
          "output_type": "execute_result"
        }
      ],
      "source": [
        "data.isnull().values.any() # checking if there are any missing values"
      ]
    },
    {
      "cell_type": "markdown",
      "metadata": {
        "id": "E-cTD0HI9DZh"
      },
      "source": [
        "We can see above that the dataset has no NA values. But so that the code works for any dataset, we will add code to remove all missing values. The reason why we will remove missing values is because, if we do not have start or end time, or step count then we cannot analyse that information properly."
      ]
    },
    {
      "cell_type": "code",
      "execution_count": 8,
      "metadata": {
        "colab": {
          "base_uri": "https://localhost:8080/",
          "height": 424
        },
        "id": "8bGlVtgK9DlG",
        "outputId": "147477c7-71ad-4869-886d-a12f9cead03d"
      },
      "outputs": [
        {
          "data": {
            "text/html": [
              "<div>\n",
              "<style scoped>\n",
              "    .dataframe tbody tr th:only-of-type {\n",
              "        vertical-align: middle;\n",
              "    }\n",
              "\n",
              "    .dataframe tbody tr th {\n",
              "        vertical-align: top;\n",
              "    }\n",
              "\n",
              "    .dataframe thead th {\n",
              "        text-align: right;\n",
              "    }\n",
              "</style>\n",
              "<table border=\"1\" class=\"dataframe\">\n",
              "  <thead>\n",
              "    <tr style=\"text-align: right;\">\n",
              "      <th></th>\n",
              "      <th>Start</th>\n",
              "      <th>Finish</th>\n",
              "      <th>Steps (count)</th>\n",
              "    </tr>\n",
              "  </thead>\n",
              "  <tbody>\n",
              "    <tr>\n",
              "      <th>0</th>\n",
              "      <td>2022-01-01 00:00:00</td>\n",
              "      <td>2022-01-01 01:00:00</td>\n",
              "      <td>0.0</td>\n",
              "    </tr>\n",
              "    <tr>\n",
              "      <th>1</th>\n",
              "      <td>2022-01-01 01:00:00</td>\n",
              "      <td>2022-01-01 02:00:00</td>\n",
              "      <td>0.0</td>\n",
              "    </tr>\n",
              "    <tr>\n",
              "      <th>2</th>\n",
              "      <td>2022-01-01 02:00:00</td>\n",
              "      <td>2022-01-01 03:00:00</td>\n",
              "      <td>0.0</td>\n",
              "    </tr>\n",
              "    <tr>\n",
              "      <th>3</th>\n",
              "      <td>2022-01-01 03:00:00</td>\n",
              "      <td>2022-01-01 04:00:00</td>\n",
              "      <td>0.0</td>\n",
              "    </tr>\n",
              "    <tr>\n",
              "      <th>4</th>\n",
              "      <td>2022-01-01 04:00:00</td>\n",
              "      <td>2022-01-01 05:00:00</td>\n",
              "      <td>0.0</td>\n",
              "    </tr>\n",
              "    <tr>\n",
              "      <th>...</th>\n",
              "      <td>...</td>\n",
              "      <td>...</td>\n",
              "      <td>...</td>\n",
              "    </tr>\n",
              "    <tr>\n",
              "      <th>6100</th>\n",
              "      <td>2022-09-12 03:00:00</td>\n",
              "      <td>2022-09-12 04:00:00</td>\n",
              "      <td>0.0</td>\n",
              "    </tr>\n",
              "    <tr>\n",
              "      <th>6101</th>\n",
              "      <td>2022-09-12 04:00:00</td>\n",
              "      <td>2022-09-12 05:00:00</td>\n",
              "      <td>0.0</td>\n",
              "    </tr>\n",
              "    <tr>\n",
              "      <th>6102</th>\n",
              "      <td>2022-09-12 05:00:00</td>\n",
              "      <td>2022-09-12 06:00:00</td>\n",
              "      <td>25.0</td>\n",
              "    </tr>\n",
              "    <tr>\n",
              "      <th>6103</th>\n",
              "      <td>2022-09-12 06:00:00</td>\n",
              "      <td>2022-09-12 07:00:00</td>\n",
              "      <td>0.0</td>\n",
              "    </tr>\n",
              "    <tr>\n",
              "      <th>6104</th>\n",
              "      <td>2022-09-12 07:00:00</td>\n",
              "      <td>2022-09-12 08:00:00</td>\n",
              "      <td>203.0</td>\n",
              "    </tr>\n",
              "  </tbody>\n",
              "</table>\n",
              "<p>6105 rows × 3 columns</p>\n",
              "</div>"
            ],
            "text/plain": [
              "                   Start              Finish  Steps (count)\n",
              "0    2022-01-01 00:00:00 2022-01-01 01:00:00            0.0\n",
              "1    2022-01-01 01:00:00 2022-01-01 02:00:00            0.0\n",
              "2    2022-01-01 02:00:00 2022-01-01 03:00:00            0.0\n",
              "3    2022-01-01 03:00:00 2022-01-01 04:00:00            0.0\n",
              "4    2022-01-01 04:00:00 2022-01-01 05:00:00            0.0\n",
              "...                  ...                 ...            ...\n",
              "6100 2022-09-12 03:00:00 2022-09-12 04:00:00            0.0\n",
              "6101 2022-09-12 04:00:00 2022-09-12 05:00:00            0.0\n",
              "6102 2022-09-12 05:00:00 2022-09-12 06:00:00           25.0\n",
              "6103 2022-09-12 06:00:00 2022-09-12 07:00:00            0.0\n",
              "6104 2022-09-12 07:00:00 2022-09-12 08:00:00          203.0\n",
              "\n",
              "[6105 rows x 3 columns]"
            ]
          },
          "execution_count": 8,
          "metadata": {},
          "output_type": "execute_result"
        }
      ],
      "source": [
        "data.dropna() # dropping all the NA values from dataset"
      ]
    },
    {
      "cell_type": "markdown",
      "metadata": {
        "id": "6MlSlx577lDK"
      },
      "source": [
        "As there were no missing values, we can see that the dataset still has 6105 rows and 3 columns.\n",
        "\n"
      ]
    },
    {
      "cell_type": "markdown",
      "metadata": {
        "id": "_z72S-nD7ZuU"
      },
      "source": [
        "### Exploring a single variable: step count"
      ]
    },
    {
      "cell_type": "markdown",
      "metadata": {
        "id": "ALdG5r8Q7XS0"
      },
      "source": [
        "The first thing that we are going to do is exploring the variable: stepcount. We will look at the mean of step count, the maximum and minimum count, standard devaition, and the inter quartile ranges."
      ]
    },
    {
      "cell_type": "code",
      "execution_count": 9,
      "metadata": {
        "colab": {
          "base_uri": "https://localhost:8080/"
        },
        "id": "tWq1bbkv2p7J",
        "outputId": "02368ece-e12d-4c94-a12b-c606d0409ad6"
      },
      "outputs": [
        {
          "data": {
            "text/plain": [
              "count    6105.000000\n",
              "mean      361.618018\n",
              "std       739.659887\n",
              "min         0.000000\n",
              "25%         0.000000\n",
              "50%        46.000000\n",
              "75%       338.000000\n",
              "max      6379.000000\n",
              "Name: Steps (count), dtype: float64"
            ]
          },
          "execution_count": 9,
          "metadata": {},
          "output_type": "execute_result"
        }
      ],
      "source": [
        "data['Steps (count)'].describe() # checking the details for step count column"
      ]
    },
    {
      "cell_type": "markdown",
      "metadata": {
        "id": "CO0ZtgDV2qDE"
      },
      "source": [
        "We can see that the mean number of steps for the given time period is 361.6 and maximum number of steps have been 6379. We can also observe that a lot of step counts are 0. The 0 step counts can give us insight into how often users do not carry the apple device with them. Now, lets have a look at the box plot for the step count.\n",
        "\n",
        "\n"
      ]
    },
    {
      "cell_type": "code",
      "execution_count": 10,
      "metadata": {
        "colab": {
          "base_uri": "https://localhost:8080/",
          "height": 281
        },
        "id": "rdBhq9SW2qLE",
        "outputId": "6d07f404-3c84-4913-f7d1-5c39c2e8426d"
      },
      "outputs": [
        {
          "data": {
            "image/png": "[encoded data removed]",
            "text/plain": [
              "<Figure size 432x288 with 1 Axes>"
            ]
          },
          "metadata": {
            "needs_background": "light"
          },
          "output_type": "display_data"
        }
      ],
      "source": [
        "plt.boxplot(data['Steps (count)'], widths = 0.6) # creating box plot\n",
        "plt.title('Step count')\n",
        "plt.show()"
      ]
    },
    {
      "cell_type": "markdown",
      "metadata": {
        "id": "WCQaKNEP2qSp"
      },
      "source": [
        "Looking at the above box plot, we can see that there a lot of outliers in our dataset. Lets find the number of outliers now."
      ]
    },
    {
      "cell_type": "code",
      "execution_count": 11,
      "metadata": {
        "colab": {
          "base_uri": "https://localhost:8080/"
        },
        "id": "69r6lKtwmnM-",
        "outputId": "76e22a0d-c3ed-4912-ce43-0aacb6b19b5b"
      },
      "outputs": [
        {
          "data": {
            "text/plain": [
              "16      3753.000000\n",
              "17      2554.000000\n",
              "34      1143.888080\n",
              "35      2053.358474\n",
              "42      3220.000000\n",
              "           ...     \n",
              "6061    1784.878987\n",
              "6064    2521.000000\n",
              "6065    1166.000000\n",
              "6084    1815.293098\n",
              "6085     872.103840\n",
              "Name: Steps (count), Length: 779, dtype: float64"
            ]
          },
          "execution_count": 11,
          "metadata": {},
          "output_type": "execute_result"
        }
      ],
      "source": [
        "q1=data['Steps (count)'].quantile(0.25) # finding first quartile\n",
        "q3=data['Steps (count)'].quantile(0.75) # finding thrid quartile\n",
        "IQR=q3-q1 # finding inter quartile range\n",
        "outliers = data['Steps (count)'][((data['Steps (count)']<(q1-1.5*IQR)) | (data['Steps (count)']>(q3+1.5*IQR)))] # finding outliers\n",
        "outliers # printing outliers"
      ]
    },
    {
      "cell_type": "markdown",
      "metadata": {
        "id": "q3ATohFUnIMv"
      },
      "source": [
        "We can see that there are 779 outliers. "
      ]
    },
    {
      "cell_type": "markdown",
      "metadata": {
        "id": "Rv7bYFLJnSb9"
      },
      "source": [
        "### Exploring the start and finish time"
      ]
    },
    {
      "cell_type": "markdown",
      "metadata": {
        "id": "BjyI9htTn0xX"
      },
      "source": [
        "Now lets add a colum to the table which will denote the time period covered between the start and finish time."
      ]
    },
    {
      "cell_type": "code",
      "execution_count": 12,
      "metadata": {
        "colab": {
          "base_uri": "https://localhost:8080/",
          "height": 424
        },
        "id": "gNpVFZVhnx6l",
        "outputId": "9837e0fb-e6b7-43e4-eb6f-48d6adf2338c"
      },
      "outputs": [
        {
          "data": {
            "text/html": [
              "<div>\n",
              "<style scoped>\n",
              "    .dataframe tbody tr th:only-of-type {\n",
              "        vertical-align: middle;\n",
              "    }\n",
              "\n",
              "    .dataframe tbody tr th {\n",
              "        vertical-align: top;\n",
              "    }\n",
              "\n",
              "    .dataframe thead th {\n",
              "        text-align: right;\n",
              "    }\n",
              "</style>\n",
              "<table border=\"1\" class=\"dataframe\">\n",
              "  <thead>\n",
              "    <tr style=\"text-align: right;\">\n",
              "      <th></th>\n",
              "      <th>Start</th>\n",
              "      <th>Finish</th>\n",
              "      <th>Steps (count)</th>\n",
              "      <th>Time</th>\n",
              "    </tr>\n",
              "  </thead>\n",
              "  <tbody>\n",
              "    <tr>\n",
              "      <th>0</th>\n",
              "      <td>2022-01-01 00:00:00</td>\n",
              "      <td>2022-01-01 01:00:00</td>\n",
              "      <td>0.0</td>\n",
              "      <td>0 days 01:00:00</td>\n",
              "    </tr>\n",
              "    <tr>\n",
              "      <th>1</th>\n",
              "      <td>2022-01-01 01:00:00</td>\n",
              "      <td>2022-01-01 02:00:00</td>\n",
              "      <td>0.0</td>\n",
              "      <td>0 days 01:00:00</td>\n",
              "    </tr>\n",
              "    <tr>\n",
              "      <th>2</th>\n",
              "      <td>2022-01-01 02:00:00</td>\n",
              "      <td>2022-01-01 03:00:00</td>\n",
              "      <td>0.0</td>\n",
              "      <td>0 days 01:00:00</td>\n",
              "    </tr>\n",
              "    <tr>\n",
              "      <th>3</th>\n",
              "      <td>2022-01-01 03:00:00</td>\n",
              "      <td>2022-01-01 04:00:00</td>\n",
              "      <td>0.0</td>\n",
              "      <td>0 days 01:00:00</td>\n",
              "    </tr>\n",
              "    <tr>\n",
              "      <th>4</th>\n",
              "      <td>2022-01-01 04:00:00</td>\n",
              "      <td>2022-01-01 05:00:00</td>\n",
              "      <td>0.0</td>\n",
              "      <td>0 days 01:00:00</td>\n",
              "    </tr>\n",
              "    <tr>\n",
              "      <th>...</th>\n",
              "      <td>...</td>\n",
              "      <td>...</td>\n",
              "      <td>...</td>\n",
              "      <td>...</td>\n",
              "    </tr>\n",
              "    <tr>\n",
              "      <th>6100</th>\n",
              "      <td>2022-09-12 03:00:00</td>\n",
              "      <td>2022-09-12 04:00:00</td>\n",
              "      <td>0.0</td>\n",
              "      <td>0 days 01:00:00</td>\n",
              "    </tr>\n",
              "    <tr>\n",
              "      <th>6101</th>\n",
              "      <td>2022-09-12 04:00:00</td>\n",
              "      <td>2022-09-12 05:00:00</td>\n",
              "      <td>0.0</td>\n",
              "      <td>0 days 01:00:00</td>\n",
              "    </tr>\n",
              "    <tr>\n",
              "      <th>6102</th>\n",
              "      <td>2022-09-12 05:00:00</td>\n",
              "      <td>2022-09-12 06:00:00</td>\n",
              "      <td>25.0</td>\n",
              "      <td>0 days 01:00:00</td>\n",
              "    </tr>\n",
              "    <tr>\n",
              "      <th>6103</th>\n",
              "      <td>2022-09-12 06:00:00</td>\n",
              "      <td>2022-09-12 07:00:00</td>\n",
              "      <td>0.0</td>\n",
              "      <td>0 days 01:00:00</td>\n",
              "    </tr>\n",
              "    <tr>\n",
              "      <th>6104</th>\n",
              "      <td>2022-09-12 07:00:00</td>\n",
              "      <td>2022-09-12 08:00:00</td>\n",
              "      <td>203.0</td>\n",
              "      <td>0 days 01:00:00</td>\n",
              "    </tr>\n",
              "  </tbody>\n",
              "</table>\n",
              "<p>6105 rows × 4 columns</p>\n",
              "</div>"
            ],
            "text/plain": [
              "                   Start              Finish  Steps (count)            Time\n",
              "0    2022-01-01 00:00:00 2022-01-01 01:00:00            0.0 0 days 01:00:00\n",
              "1    2022-01-01 01:00:00 2022-01-01 02:00:00            0.0 0 days 01:00:00\n",
              "2    2022-01-01 02:00:00 2022-01-01 03:00:00            0.0 0 days 01:00:00\n",
              "3    2022-01-01 03:00:00 2022-01-01 04:00:00            0.0 0 days 01:00:00\n",
              "4    2022-01-01 04:00:00 2022-01-01 05:00:00            0.0 0 days 01:00:00\n",
              "...                  ...                 ...            ...             ...\n",
              "6100 2022-09-12 03:00:00 2022-09-12 04:00:00            0.0 0 days 01:00:00\n",
              "6101 2022-09-12 04:00:00 2022-09-12 05:00:00            0.0 0 days 01:00:00\n",
              "6102 2022-09-12 05:00:00 2022-09-12 06:00:00           25.0 0 days 01:00:00\n",
              "6103 2022-09-12 06:00:00 2022-09-12 07:00:00            0.0 0 days 01:00:00\n",
              "6104 2022-09-12 07:00:00 2022-09-12 08:00:00          203.0 0 days 01:00:00\n",
              "\n",
              "[6105 rows x 4 columns]"
            ]
          },
          "execution_count": 12,
          "metadata": {},
          "output_type": "execute_result"
        }
      ],
      "source": [
        "data['Time'] = data['Finish'] - data['Start'] # creting a new column which stores the time period for each row\n",
        "data"
      ]
    },
    {
      "cell_type": "markdown",
      "metadata": {
        "id": "G3FTpJ--oEBj"
      },
      "source": [
        "Looking above, we can observe that each time period corresponds to one hour of the day. Now, lets combine the rows for one day, and see the step count recorded for each month. For this, we will add a column called month to the dataset."
      ]
    },
    {
      "cell_type": "code",
      "execution_count": 13,
      "metadata": {
        "colab": {
          "base_uri": "https://localhost:8080/",
          "height": 424
        },
        "id": "pLltimpwoOcn",
        "outputId": "07f9682f-2533-4384-f67b-e7fd7796dc34"
      },
      "outputs": [
        {
          "data": {
            "text/html": [
              "<div>\n",
              "<style scoped>\n",
              "    .dataframe tbody tr th:only-of-type {\n",
              "        vertical-align: middle;\n",
              "    }\n",
              "\n",
              "    .dataframe tbody tr th {\n",
              "        vertical-align: top;\n",
              "    }\n",
              "\n",
              "    .dataframe thead th {\n",
              "        text-align: right;\n",
              "    }\n",
              "</style>\n",
              "<table border=\"1\" class=\"dataframe\">\n",
              "  <thead>\n",
              "    <tr style=\"text-align: right;\">\n",
              "      <th></th>\n",
              "      <th>Start</th>\n",
              "      <th>Finish</th>\n",
              "      <th>Steps (count)</th>\n",
              "      <th>Time</th>\n",
              "      <th>month</th>\n",
              "    </tr>\n",
              "  </thead>\n",
              "  <tbody>\n",
              "    <tr>\n",
              "      <th>0</th>\n",
              "      <td>2022-01-01 00:00:00</td>\n",
              "      <td>2022-01-01 01:00:00</td>\n",
              "      <td>0.0</td>\n",
              "      <td>0 days 01:00:00</td>\n",
              "      <td>1</td>\n",
              "    </tr>\n",
              "    <tr>\n",
              "      <th>1</th>\n",
              "      <td>2022-01-01 01:00:00</td>\n",
              "      <td>2022-01-01 02:00:00</td>\n",
              "      <td>0.0</td>\n",
              "      <td>0 days 01:00:00</td>\n",
              "      <td>1</td>\n",
              "    </tr>\n",
              "    <tr>\n",
              "      <th>2</th>\n",
              "      <td>2022-01-01 02:00:00</td>\n",
              "      <td>2022-01-01 03:00:00</td>\n",
              "      <td>0.0</td>\n",
              "      <td>0 days 01:00:00</td>\n",
              "      <td>1</td>\n",
              "    </tr>\n",
              "    <tr>\n",
              "      <th>3</th>\n",
              "      <td>2022-01-01 03:00:00</td>\n",
              "      <td>2022-01-01 04:00:00</td>\n",
              "      <td>0.0</td>\n",
              "      <td>0 days 01:00:00</td>\n",
              "      <td>1</td>\n",
              "    </tr>\n",
              "    <tr>\n",
              "      <th>4</th>\n",
              "      <td>2022-01-01 04:00:00</td>\n",
              "      <td>2022-01-01 05:00:00</td>\n",
              "      <td>0.0</td>\n",
              "      <td>0 days 01:00:00</td>\n",
              "      <td>1</td>\n",
              "    </tr>\n",
              "    <tr>\n",
              "      <th>...</th>\n",
              "      <td>...</td>\n",
              "      <td>...</td>\n",
              "      <td>...</td>\n",
              "      <td>...</td>\n",
              "      <td>...</td>\n",
              "    </tr>\n",
              "    <tr>\n",
              "      <th>6100</th>\n",
              "      <td>2022-09-12 03:00:00</td>\n",
              "      <td>2022-09-12 04:00:00</td>\n",
              "      <td>0.0</td>\n",
              "      <td>0 days 01:00:00</td>\n",
              "      <td>9</td>\n",
              "    </tr>\n",
              "    <tr>\n",
              "      <th>6101</th>\n",
              "      <td>2022-09-12 04:00:00</td>\n",
              "      <td>2022-09-12 05:00:00</td>\n",
              "      <td>0.0</td>\n",
              "      <td>0 days 01:00:00</td>\n",
              "      <td>9</td>\n",
              "    </tr>\n",
              "    <tr>\n",
              "      <th>6102</th>\n",
              "      <td>2022-09-12 05:00:00</td>\n",
              "      <td>2022-09-12 06:00:00</td>\n",
              "      <td>25.0</td>\n",
              "      <td>0 days 01:00:00</td>\n",
              "      <td>9</td>\n",
              "    </tr>\n",
              "    <tr>\n",
              "      <th>6103</th>\n",
              "      <td>2022-09-12 06:00:00</td>\n",
              "      <td>2022-09-12 07:00:00</td>\n",
              "      <td>0.0</td>\n",
              "      <td>0 days 01:00:00</td>\n",
              "      <td>9</td>\n",
              "    </tr>\n",
              "    <tr>\n",
              "      <th>6104</th>\n",
              "      <td>2022-09-12 07:00:00</td>\n",
              "      <td>2022-09-12 08:00:00</td>\n",
              "      <td>203.0</td>\n",
              "      <td>0 days 01:00:00</td>\n",
              "      <td>9</td>\n",
              "    </tr>\n",
              "  </tbody>\n",
              "</table>\n",
              "<p>6105 rows × 5 columns</p>\n",
              "</div>"
            ],
            "text/plain": [
              "                   Start              Finish  Steps (count)            Time  \\\n",
              "0    2022-01-01 00:00:00 2022-01-01 01:00:00            0.0 0 days 01:00:00   \n",
              "1    2022-01-01 01:00:00 2022-01-01 02:00:00            0.0 0 days 01:00:00   \n",
              "2    2022-01-01 02:00:00 2022-01-01 03:00:00            0.0 0 days 01:00:00   \n",
              "3    2022-01-01 03:00:00 2022-01-01 04:00:00            0.0 0 days 01:00:00   \n",
              "4    2022-01-01 04:00:00 2022-01-01 05:00:00            0.0 0 days 01:00:00   \n",
              "...                  ...                 ...            ...             ...   \n",
              "6100 2022-09-12 03:00:00 2022-09-12 04:00:00            0.0 0 days 01:00:00   \n",
              "6101 2022-09-12 04:00:00 2022-09-12 05:00:00            0.0 0 days 01:00:00   \n",
              "6102 2022-09-12 05:00:00 2022-09-12 06:00:00           25.0 0 days 01:00:00   \n",
              "6103 2022-09-12 06:00:00 2022-09-12 07:00:00            0.0 0 days 01:00:00   \n",
              "6104 2022-09-12 07:00:00 2022-09-12 08:00:00          203.0 0 days 01:00:00   \n",
              "\n",
              "      month  \n",
              "0         1  \n",
              "1         1  \n",
              "2         1  \n",
              "3         1  \n",
              "4         1  \n",
              "...     ...  \n",
              "6100      9  \n",
              "6101      9  \n",
              "6102      9  \n",
              "6103      9  \n",
              "6104      9  \n",
              "\n",
              "[6105 rows x 5 columns]"
            ]
          },
          "execution_count": 13,
          "metadata": {},
          "output_type": "execute_result"
        }
      ],
      "source": [
        "data[\"month\"] = data[\"Start\"].dt.month # finding month corresponding to each row\n",
        "data"
      ]
    },
    {
      "cell_type": "markdown",
      "metadata": {
        "id": "2xRs2RMTo_9P"
      },
      "source": [
        "Now that we have the month, lets combine the step count for each month."
      ]
    },
    {
      "cell_type": "code",
      "execution_count": 14,
      "metadata": {
        "colab": {
          "base_uri": "https://localhost:8080/"
        },
        "id": "halJ488WpD3n",
        "outputId": "c112b8bc-4623-43f6-f487-e0148acdb547"
      },
      "outputs": [
        {
          "name": "stdout",
          "output_type": "stream",
          "text": [
            "1 213809.0\n",
            "2 245086.99999999994\n",
            "3 264200.0\n",
            "4 262138.0\n",
            "5 299847.0\n",
            "6 225709.99999999997\n",
            "7 265860.0\n",
            "8 297977.0\n",
            "9 133050.0\n",
            "10 0.0\n",
            "11 0.0\n",
            "12 0.0\n"
          ]
        }
      ],
      "source": [
        "monthlyCount = [] # creating a list for month counts\n",
        "for i in range(1, 13): # looping through each month\n",
        "  filt = data['month'] == i # filtering rows for each month\n",
        "  res = data.loc[filt].sum(axis=0, numeric_only=True) # filtering rows for each month and finding sum of step count\n",
        "  monthlyCount.append(res[0]) # adding monthly step count to list\n",
        "  print(i, res[0]) # printing results"
      ]
    },
    {
      "cell_type": "markdown",
      "metadata": {
        "id": "-eAlRCoIp7SO"
      },
      "source": [
        "We can see above that for months 10 to 12 i.e october to december the step count is 0 as expected because the data is not recorded for these months. Now lets look at the mean, standard deviation, and interquartile range for the step count for january to september."
      ]
    },
    {
      "cell_type": "code",
      "execution_count": 15,
      "metadata": {
        "colab": {
          "base_uri": "https://localhost:8080/",
          "height": 300
        },
        "id": "XWj8r3slqare",
        "outputId": "70547081-88cf-46a1-d424-dacf28bef01f"
      },
      "outputs": [
        {
          "data": {
            "text/html": [
              "<div>\n",
              "<style scoped>\n",
              "    .dataframe tbody tr th:only-of-type {\n",
              "        vertical-align: middle;\n",
              "    }\n",
              "\n",
              "    .dataframe tbody tr th {\n",
              "        vertical-align: top;\n",
              "    }\n",
              "\n",
              "    .dataframe thead th {\n",
              "        text-align: right;\n",
              "    }\n",
              "</style>\n",
              "<table border=\"1\" class=\"dataframe\">\n",
              "  <thead>\n",
              "    <tr style=\"text-align: right;\">\n",
              "      <th></th>\n",
              "      <th>count</th>\n",
              "    </tr>\n",
              "  </thead>\n",
              "  <tbody>\n",
              "    <tr>\n",
              "      <th>count</th>\n",
              "      <td>9.000000</td>\n",
              "    </tr>\n",
              "    <tr>\n",
              "      <th>mean</th>\n",
              "      <td>245297.555556</td>\n",
              "    </tr>\n",
              "    <tr>\n",
              "      <th>std</th>\n",
              "      <td>50977.007536</td>\n",
              "    </tr>\n",
              "    <tr>\n",
              "      <th>min</th>\n",
              "      <td>133050.000000</td>\n",
              "    </tr>\n",
              "    <tr>\n",
              "      <th>25%</th>\n",
              "      <td>225710.000000</td>\n",
              "    </tr>\n",
              "    <tr>\n",
              "      <th>50%</th>\n",
              "      <td>262138.000000</td>\n",
              "    </tr>\n",
              "    <tr>\n",
              "      <th>75%</th>\n",
              "      <td>265860.000000</td>\n",
              "    </tr>\n",
              "    <tr>\n",
              "      <th>max</th>\n",
              "      <td>299847.000000</td>\n",
              "    </tr>\n",
              "  </tbody>\n",
              "</table>\n",
              "</div>"
            ],
            "text/plain": [
              "               count\n",
              "count       9.000000\n",
              "mean   245297.555556\n",
              "std     50977.007536\n",
              "min    133050.000000\n",
              "25%    225710.000000\n",
              "50%    262138.000000\n",
              "75%    265860.000000\n",
              "max    299847.000000"
            ]
          },
          "execution_count": 15,
          "metadata": {},
          "output_type": "execute_result"
        }
      ],
      "source": [
        "monthlyCount = monthlyCount[0:9] # filtering all the monthly data for the months whose data was recorded\n",
        "# IMP: this would only work for datasets where data is recorded only till september, which includes all other participant datasets\n",
        "monthlyData = pd.DataFrame(monthlyCount) # converting monthly step counts to data frame\n",
        "monthlyData.columns = ['count'] # renaming columns\n",
        "monthlyData.describe() # finding aggregation details for the monthly step counts\n"
      ]
    },
    {
      "cell_type": "markdown",
      "metadata": {
        "id": "qReA55KGqz98"
      },
      "source": [
        "We can observe that the mean number of steps for every month is 245297.5, and the maximum number of steps recorded are 299847. Now lets have a look at the boxplot."
      ]
    },
    {
      "cell_type": "code",
      "execution_count": 16,
      "metadata": {
        "colab": {
          "base_uri": "https://localhost:8080/",
          "height": 281
        },
        "id": "hqKYYs5gq-sK",
        "outputId": "7e532248-4e16-4cdb-b315-1472f624eecf"
      },
      "outputs": [
        {
          "data": {
            "image/png": "[encoded data removed]",
            "text/plain": [
              "<Figure size 432x288 with 1 Axes>"
            ]
          },
          "metadata": {
            "needs_background": "light"
          },
          "output_type": "display_data"
        }
      ],
      "source": [
        "plt.boxplot(monthlyData['count'], widths = 0.6) # creating box plot\n",
        "plt.title('Step count for each month')\n",
        "plt.show()"
      ]
    },
    {
      "cell_type": "markdown",
      "metadata": {
        "id": "xbvMtBcxsEWP"
      },
      "source": [
        "Looking at the above plat, we can see that there is only one outlier in the monthly count dataset."
      ]
    },
    {
      "cell_type": "markdown",
      "metadata": {
        "id": "cC7-OCtrsr5Q"
      },
      "source": [
        "### Data Visualisation"
      ]
    },
    {
      "cell_type": "markdown",
      "metadata": {
        "id": "MfbkCwkOtPT3"
      },
      "source": [
        "Now, lets create a visualisation to observe how the step count changes over time."
      ]
    },
    {
      "cell_type": "code",
      "execution_count": 17,
      "metadata": {
        "colab": {
          "base_uri": "https://localhost:8080/",
          "height": 565
        },
        "id": "MGW6G97utWEr",
        "outputId": "f3dacd3b-8da4-44e8-bc9f-e0d330973ff1"
      },
      "outputs": [
        {
          "data": {
            "image/png": "[encoded data removed]",
            "text/plain": [
              "<Figure size 800x640 with 1 Axes>"
            ]
          },
          "metadata": {
            "needs_background": "light"
          },
          "output_type": "display_data"
        }
      ],
      "source": [
        "figure(figsize=(10, 8), dpi=80) # setting figure size\n",
        "plt.plot(data['Start'], data['Steps (count)']) # creating plot\n",
        "# adding a and y axis labels and title\n",
        "plt.xlabel('Counter start time')\n",
        "plt.ylabel(\"Step count\")\n",
        "plt.title('Step counts over time')\n",
        "plt.show()"
      ]
    },
    {
      "cell_type": "code",
      "execution_count": 18,
      "metadata": {},
      "outputs": [
        {
          "name": "stdout",
          "output_type": "stream",
          "text": [
            "            Steps (count)\n",
            "date                     \n",
            "2022-01-01         7312.0\n",
            "2022-01-02         7661.0\n",
            "2022-01-03         6462.0\n",
            "2022-01-04         5454.0\n",
            "2022-01-05         8658.0\n",
            "...                   ...\n",
            "2022-09-08        18149.0\n",
            "2022-09-09        17792.0\n",
            "2022-09-10        14373.0\n",
            "2022-09-11         5636.0\n",
            "2022-09-12          228.0\n",
            "\n",
            "[255 rows x 1 columns]\n",
            "255\n"
          ]
        },
        {
          "name": "stderr",
          "output_type": "stream",
          "text": [
            "/Library/Frameworks/Python.framework/Versions/3.7/lib/python3.7/site-packages/ipykernel_launcher.py:4: SettingWithCopyWarning: \n",
            "A value is trying to be set on a copy of a slice from a DataFrame.\n",
            "Try using .loc[row_indexer,col_indexer] = value instead\n",
            "\n",
            "See the caveats in the documentation: https://pandas.pydata.org/pandas-docs/stable/user_guide/indexing.html#returning-a-view-versus-a-copy\n",
            "  after removing the cwd from sys.path.\n"
          ]
        },
        {
          "data": {
            "text/plain": [
              "<AxesSubplot:xlabel='date', ylabel='Steps (count)'>"
            ]
          },
          "execution_count": 18,
          "metadata": {},
          "output_type": "execute_result"
        },
        {
          "data": {
            "image/png": "[encoded data removed]",
            "text/plain": [
              "<Figure size 720x576 with 1 Axes>"
            ]
          },
          "metadata": {
            "needs_background": "light"
          },
          "output_type": "display_data"
        }
      ],
      "source": [
        "import seaborn as sns\n",
        "new_data = data[['Start', 'Steps (count)']]\n",
        "#add a new column containing only the date\n",
        "new_data['date'] = new_data['Start'].dt.date\n",
        "#find sum of steps for each date\n",
        "new_data = new_data.groupby('date').sum()\n",
        "print(new_data)\n",
        "#plot a scatter of the Step count and date\n",
        "fig = plt.figure(figsize=(10,8))\n",
        "print(len(new_data))\n",
        "sns.scatterplot(x=new_data.index, y=new_data['Steps (count)'])\n"
      ]
    },
    {
      "cell_type": "code",
      "execution_count": 37,
      "metadata": {},
      "outputs": [
        {
          "data": {
            "text/html": [
              "<div>\n",
              "<style scoped>\n",
              "    .dataframe tbody tr th:only-of-type {\n",
              "        vertical-align: middle;\n",
              "    }\n",
              "\n",
              "    .dataframe tbody tr th {\n",
              "        vertical-align: top;\n",
              "    }\n",
              "\n",
              "    .dataframe thead th {\n",
              "        text-align: right;\n",
              "    }\n",
              "</style>\n",
              "<table border=\"1\" class=\"dataframe\">\n",
              "  <thead>\n",
              "    <tr style=\"text-align: right;\">\n",
              "      <th></th>\n",
              "      <th></th>\n",
              "      <th>Steps (count)</th>\n",
              "    </tr>\n",
              "    <tr>\n",
              "      <th>date</th>\n",
              "      <th>weekday</th>\n",
              "      <th></th>\n",
              "    </tr>\n",
              "  </thead>\n",
              "  <tbody>\n",
              "    <tr>\n",
              "      <th rowspan=\"2\" valign=\"top\">1</th>\n",
              "      <th>0</th>\n",
              "      <td>6791.700000</td>\n",
              "    </tr>\n",
              "    <tr>\n",
              "      <th>1</th>\n",
              "      <td>6947.238095</td>\n",
              "    </tr>\n",
              "    <tr>\n",
              "      <th rowspan=\"2\" valign=\"top\">2</th>\n",
              "      <th>0</th>\n",
              "      <td>9206.125000</td>\n",
              "    </tr>\n",
              "    <tr>\n",
              "      <th>1</th>\n",
              "      <td>8571.900000</td>\n",
              "    </tr>\n",
              "    <tr>\n",
              "      <th rowspan=\"2\" valign=\"top\">3</th>\n",
              "      <th>0</th>\n",
              "      <td>9128.875000</td>\n",
              "    </tr>\n",
              "    <tr>\n",
              "      <th>1</th>\n",
              "      <td>8311.695652</td>\n",
              "    </tr>\n",
              "    <tr>\n",
              "      <th rowspan=\"2\" valign=\"top\">4</th>\n",
              "      <th>0</th>\n",
              "      <td>9526.111111</td>\n",
              "    </tr>\n",
              "    <tr>\n",
              "      <th>1</th>\n",
              "      <td>8400.142857</td>\n",
              "    </tr>\n",
              "    <tr>\n",
              "      <th rowspan=\"2\" valign=\"top\">5</th>\n",
              "      <th>0</th>\n",
              "      <td>9602.444444</td>\n",
              "    </tr>\n",
              "    <tr>\n",
              "      <th>1</th>\n",
              "      <td>9701.136364</td>\n",
              "    </tr>\n",
              "    <tr>\n",
              "      <th rowspan=\"2\" valign=\"top\">6</th>\n",
              "      <th>0</th>\n",
              "      <td>8305.750000</td>\n",
              "    </tr>\n",
              "    <tr>\n",
              "      <th>1</th>\n",
              "      <td>7239.272727</td>\n",
              "    </tr>\n",
              "    <tr>\n",
              "      <th rowspan=\"2\" valign=\"top\">7</th>\n",
              "      <th>0</th>\n",
              "      <td>8773.200000</td>\n",
              "    </tr>\n",
              "    <tr>\n",
              "      <th>1</th>\n",
              "      <td>8482.285714</td>\n",
              "    </tr>\n",
              "    <tr>\n",
              "      <th rowspan=\"2\" valign=\"top\">8</th>\n",
              "      <th>0</th>\n",
              "      <td>11532.125000</td>\n",
              "    </tr>\n",
              "    <tr>\n",
              "      <th>1</th>\n",
              "      <td>8944.347826</td>\n",
              "    </tr>\n",
              "    <tr>\n",
              "      <th rowspan=\"2\" valign=\"top\">9</th>\n",
              "      <th>0</th>\n",
              "      <td>9524.750000</td>\n",
              "    </tr>\n",
              "    <tr>\n",
              "      <th>1</th>\n",
              "      <td>11868.875000</td>\n",
              "    </tr>\n",
              "  </tbody>\n",
              "</table>\n",
              "</div>"
            ],
            "text/plain": [
              "              Steps (count)\n",
              "date weekday               \n",
              "1    0          6791.700000\n",
              "     1          6947.238095\n",
              "2    0          9206.125000\n",
              "     1          8571.900000\n",
              "3    0          9128.875000\n",
              "     1          8311.695652\n",
              "4    0          9526.111111\n",
              "     1          8400.142857\n",
              "5    0          9602.444444\n",
              "     1          9701.136364\n",
              "6    0          8305.750000\n",
              "     1          7239.272727\n",
              "7    0          8773.200000\n",
              "     1          8482.285714\n",
              "8    0         11532.125000\n",
              "     1          8944.347826\n",
              "9    0          9524.750000\n",
              "     1         11868.875000"
            ]
          },
          "execution_count": 37,
          "metadata": {},
          "output_type": "execute_result"
        }
      ],
      "source": [
        "#find the mean of steps for each weekday and weekend for each month\n",
        "new_data['weekday'] = new_data.apply(lambda x: 1 if x.name.weekday() < 5 else 0, axis=1)\n",
        "def get_month(x):\n",
        "    return x.month\n",
        "results = new_data.groupby([new_data.index.map(get_month), 'weekday']).mean()\n",
        "results"
      ]
    },
    {
      "cell_type": "code",
      "execution_count": 38,
      "metadata": {},
      "outputs": [
        {
          "data": {
            "text/html": [
              "<div>\n",
              "<style scoped>\n",
              "    .dataframe tbody tr th:only-of-type {\n",
              "        vertical-align: middle;\n",
              "    }\n",
              "\n",
              "    .dataframe tbody tr th {\n",
              "        vertical-align: top;\n",
              "    }\n",
              "\n",
              "    .dataframe thead th {\n",
              "        text-align: right;\n",
              "    }\n",
              "</style>\n",
              "<table border=\"1\" class=\"dataframe\">\n",
              "  <thead>\n",
              "    <tr style=\"text-align: right;\">\n",
              "      <th></th>\n",
              "      <th></th>\n",
              "      <th>Steps (count)</th>\n",
              "    </tr>\n",
              "    <tr>\n",
              "      <th>date</th>\n",
              "      <th>weekday</th>\n",
              "      <th></th>\n",
              "    </tr>\n",
              "  </thead>\n",
              "  <tbody>\n",
              "    <tr>\n",
              "      <th rowspan=\"2\" valign=\"top\">Jan</th>\n",
              "      <th>0</th>\n",
              "      <td>6791.700000</td>\n",
              "    </tr>\n",
              "    <tr>\n",
              "      <th>1</th>\n",
              "      <td>6947.238095</td>\n",
              "    </tr>\n",
              "    <tr>\n",
              "      <th rowspan=\"2\" valign=\"top\">Feb</th>\n",
              "      <th>0</th>\n",
              "      <td>9206.125000</td>\n",
              "    </tr>\n",
              "    <tr>\n",
              "      <th>1</th>\n",
              "      <td>8571.900000</td>\n",
              "    </tr>\n",
              "    <tr>\n",
              "      <th rowspan=\"2\" valign=\"top\">Mar</th>\n",
              "      <th>0</th>\n",
              "      <td>9128.875000</td>\n",
              "    </tr>\n",
              "    <tr>\n",
              "      <th>1</th>\n",
              "      <td>8311.695652</td>\n",
              "    </tr>\n",
              "    <tr>\n",
              "      <th rowspan=\"2\" valign=\"top\">Apr</th>\n",
              "      <th>0</th>\n",
              "      <td>9526.111111</td>\n",
              "    </tr>\n",
              "    <tr>\n",
              "      <th>1</th>\n",
              "      <td>8400.142857</td>\n",
              "    </tr>\n",
              "    <tr>\n",
              "      <th rowspan=\"2\" valign=\"top\">May</th>\n",
              "      <th>0</th>\n",
              "      <td>9602.444444</td>\n",
              "    </tr>\n",
              "    <tr>\n",
              "      <th>1</th>\n",
              "      <td>9701.136364</td>\n",
              "    </tr>\n",
              "    <tr>\n",
              "      <th rowspan=\"2\" valign=\"top\">Jun</th>\n",
              "      <th>0</th>\n",
              "      <td>8305.750000</td>\n",
              "    </tr>\n",
              "    <tr>\n",
              "      <th>1</th>\n",
              "      <td>7239.272727</td>\n",
              "    </tr>\n",
              "    <tr>\n",
              "      <th rowspan=\"2\" valign=\"top\">Jul</th>\n",
              "      <th>0</th>\n",
              "      <td>8773.200000</td>\n",
              "    </tr>\n",
              "    <tr>\n",
              "      <th>1</th>\n",
              "      <td>8482.285714</td>\n",
              "    </tr>\n",
              "    <tr>\n",
              "      <th rowspan=\"2\" valign=\"top\">Aug</th>\n",
              "      <th>0</th>\n",
              "      <td>11532.125000</td>\n",
              "    </tr>\n",
              "    <tr>\n",
              "      <th>1</th>\n",
              "      <td>8944.347826</td>\n",
              "    </tr>\n",
              "    <tr>\n",
              "      <th rowspan=\"2\" valign=\"top\">Sep</th>\n",
              "      <th>0</th>\n",
              "      <td>9524.750000</td>\n",
              "    </tr>\n",
              "    <tr>\n",
              "      <th>1</th>\n",
              "      <td>11868.875000</td>\n",
              "    </tr>\n",
              "  </tbody>\n",
              "</table>\n",
              "</div>"
            ],
            "text/plain": [
              "              Steps (count)\n",
              "date weekday               \n",
              "Jan  0          6791.700000\n",
              "     1          6947.238095\n",
              "Feb  0          9206.125000\n",
              "     1          8571.900000\n",
              "Mar  0          9128.875000\n",
              "     1          8311.695652\n",
              "Apr  0          9526.111111\n",
              "     1          8400.142857\n",
              "May  0          9602.444444\n",
              "     1          9701.136364\n",
              "Jun  0          8305.750000\n",
              "     1          7239.272727\n",
              "Jul  0          8773.200000\n",
              "     1          8482.285714\n",
              "Aug  0         11532.125000\n",
              "     1          8944.347826\n",
              "Sep  0          9524.750000\n",
              "     1         11868.875000"
            ]
          },
          "execution_count": 38,
          "metadata": {},
          "output_type": "execute_result"
        }
      ],
      "source": [
        "#change date to respective month of the year\n",
        "results.index = results.index.set_levels(['Jan', 'Feb', 'Mar', 'Apr', 'May', 'Jun', 'Jul', 'Aug', 'Sep'], level=0)\n",
        "results"
      ]
    },
    {
      "cell_type": "code",
      "execution_count": 51,
      "metadata": {},
      "outputs": [
        {
          "data": {
            "text/plain": [
              "<AxesSubplot:title={'center':'Mean of steps for each weekday and weekend for each month'}, xlabel='date'>"
            ]
          },
          "execution_count": 51,
          "metadata": {},
          "output_type": "execute_result"
        },
        {
          "data": {
            "image/png": "[encoded data removed]",
            "text/plain": [
              "<Figure size 720x576 with 1 Axes>"
            ]
          },
          "metadata": {
            "needs_background": "light"
          },
          "output_type": "display_data"
        }
      ],
      "source": [
        "#plot the bar chart of the mean of steps for each weekday and weekend for each month\n",
        "results.unstack().plot(kind='bar', figsize=(10,8), title='Mean of steps for each weekday and weekend for each month',legend=True,colormap='Paired')"
      ]
    },
    {
      "cell_type": "code",
      "execution_count": 45,
      "metadata": {},
      "outputs": [
        {
          "data": {
            "text/plain": [
              "<AxesSubplot:xlabel='date'>"
            ]
          },
          "execution_count": 45,
          "metadata": {},
          "output_type": "execute_result"
        },
        {
          "data": {
            "image/png": "[encoded data removed]",
            "text/plain": [
              "<Figure size 432x288 with 1 Axes>"
            ]
          },
          "metadata": {
            "needs_background": "light"
          },
          "output_type": "display_data"
        }
      ],
      "source": [
        "unstacked = results.unstack()\n",
        "#plot the line chart of the mean of steps for each weekday and weekend for each month\n",
        "sns.lineplot(data=unstacked, markers=True, dashes=False)"
      ]
    },
    {
      "cell_type": "markdown",
      "metadata": {
        "id": "_NPU1niut_h9"
      },
      "source": [
        "We can see that there is peak for a time period between february and march, but overall the step count is varying a lot. Now lets viaulise the step counts for each month."
      ]
    },
    {
      "cell_type": "code",
      "execution_count": null,
      "metadata": {
        "colab": {
          "base_uri": "https://localhost:8080/",
          "height": 281
        },
        "id": "0W0ugudfuQy_",
        "outputId": "728ac9f7-bab3-4d23-c0f6-e2cd8398f8c5"
      },
      "outputs": [
        {
          "data": {
            "image/png": "[encoded data removed]",
            "text/plain": [
              "<Figure size 432x288 with 1 Axes>"
            ]
          },
          "metadata": {
            "needs_background": "light"
          },
          "output_type": "display_data"
        }
      ],
      "source": [
        "plt.plot(monthlyData['count']) # creating plot\n",
        "plt.title('Step count for every month')\n",
        "plt.show()"
      ]
    },
    {
      "cell_type": "markdown",
      "metadata": {
        "id": "yTQ0CFBxuWdd"
      },
      "source": [
        "We can see that the step count is least for month 8 which corresponds to september which is expected because we only have data till 12th of September. We acn also observe that there is a peak for step count in may, and august. We can see that there was a sudden drop in step count from may to june, which can indicate some change in weather or enviroment which might lead to a drop in physical activity levels."
      ]
    },
    {
      "cell_type": "markdown",
      "metadata": {
        "id": "0qqNxmXrTWhG"
      },
      "source": [
        "It would be beneficial to analyse the sudden dip in activity level in june and september.\n",
        "\n"
      ]
    },
    {
      "cell_type": "markdown",
      "metadata": {
        "id": "7h_d8XU0hxC7"
      },
      "source": [
        "## Sub-question: trends in physical activity for each month during weekdays and weekends."
      ]
    },
    {
      "cell_type": "markdown",
      "metadata": {
        "id": "pINmX4sjh46I"
      },
      "source": [
        "To analyse the trends between weekdays and weekends, we will first add a day column to the dataset."
      ]
    },
    {
      "cell_type": "code",
      "execution_count": null,
      "metadata": {
        "colab": {
          "base_uri": "https://localhost:8080/",
          "height": 424
        },
        "id": "nLc4FvMETW4s",
        "outputId": "6f0b22f3-9462-4afe-aae7-abd11e251c9e"
      },
      "outputs": [
        {
          "data": {
            "text/html": [
              "<div>\n",
              "<style scoped>\n",
              "    .dataframe tbody tr th:only-of-type {\n",
              "        vertical-align: middle;\n",
              "    }\n",
              "\n",
              "    .dataframe tbody tr th {\n",
              "        vertical-align: top;\n",
              "    }\n",
              "\n",
              "    .dataframe thead th {\n",
              "        text-align: right;\n",
              "    }\n",
              "</style>\n",
              "<table border=\"1\" class=\"dataframe\">\n",
              "  <thead>\n",
              "    <tr style=\"text-align: right;\">\n",
              "      <th></th>\n",
              "      <th>Start</th>\n",
              "      <th>Finish</th>\n",
              "      <th>Steps (count)</th>\n",
              "      <th>Time</th>\n",
              "      <th>month</th>\n",
              "      <th>day</th>\n",
              "    </tr>\n",
              "  </thead>\n",
              "  <tbody>\n",
              "    <tr>\n",
              "      <th>0</th>\n",
              "      <td>2022-01-01 00:00:00</td>\n",
              "      <td>2022-01-01 01:00:00</td>\n",
              "      <td>0.0</td>\n",
              "      <td>0 days 01:00:00</td>\n",
              "      <td>1</td>\n",
              "      <td>5</td>\n",
              "    </tr>\n",
              "    <tr>\n",
              "      <th>1</th>\n",
              "      <td>2022-01-01 01:00:00</td>\n",
              "      <td>2022-01-01 02:00:00</td>\n",
              "      <td>0.0</td>\n",
              "      <td>0 days 01:00:00</td>\n",
              "      <td>1</td>\n",
              "      <td>5</td>\n",
              "    </tr>\n",
              "    <tr>\n",
              "      <th>2</th>\n",
              "      <td>2022-01-01 02:00:00</td>\n",
              "      <td>2022-01-01 03:00:00</td>\n",
              "      <td>0.0</td>\n",
              "      <td>0 days 01:00:00</td>\n",
              "      <td>1</td>\n",
              "      <td>5</td>\n",
              "    </tr>\n",
              "    <tr>\n",
              "      <th>3</th>\n",
              "      <td>2022-01-01 03:00:00</td>\n",
              "      <td>2022-01-01 04:00:00</td>\n",
              "      <td>0.0</td>\n",
              "      <td>0 days 01:00:00</td>\n",
              "      <td>1</td>\n",
              "      <td>5</td>\n",
              "    </tr>\n",
              "    <tr>\n",
              "      <th>4</th>\n",
              "      <td>2022-01-01 04:00:00</td>\n",
              "      <td>2022-01-01 05:00:00</td>\n",
              "      <td>0.0</td>\n",
              "      <td>0 days 01:00:00</td>\n",
              "      <td>1</td>\n",
              "      <td>5</td>\n",
              "    </tr>\n",
              "    <tr>\n",
              "      <th>...</th>\n",
              "      <td>...</td>\n",
              "      <td>...</td>\n",
              "      <td>...</td>\n",
              "      <td>...</td>\n",
              "      <td>...</td>\n",
              "      <td>...</td>\n",
              "    </tr>\n",
              "    <tr>\n",
              "      <th>6100</th>\n",
              "      <td>2022-09-12 03:00:00</td>\n",
              "      <td>2022-09-12 04:00:00</td>\n",
              "      <td>0.0</td>\n",
              "      <td>0 days 01:00:00</td>\n",
              "      <td>9</td>\n",
              "      <td>0</td>\n",
              "    </tr>\n",
              "    <tr>\n",
              "      <th>6101</th>\n",
              "      <td>2022-09-12 04:00:00</td>\n",
              "      <td>2022-09-12 05:00:00</td>\n",
              "      <td>0.0</td>\n",
              "      <td>0 days 01:00:00</td>\n",
              "      <td>9</td>\n",
              "      <td>0</td>\n",
              "    </tr>\n",
              "    <tr>\n",
              "      <th>6102</th>\n",
              "      <td>2022-09-12 05:00:00</td>\n",
              "      <td>2022-09-12 06:00:00</td>\n",
              "      <td>25.0</td>\n",
              "      <td>0 days 01:00:00</td>\n",
              "      <td>9</td>\n",
              "      <td>0</td>\n",
              "    </tr>\n",
              "    <tr>\n",
              "      <th>6103</th>\n",
              "      <td>2022-09-12 06:00:00</td>\n",
              "      <td>2022-09-12 07:00:00</td>\n",
              "      <td>0.0</td>\n",
              "      <td>0 days 01:00:00</td>\n",
              "      <td>9</td>\n",
              "      <td>0</td>\n",
              "    </tr>\n",
              "    <tr>\n",
              "      <th>6104</th>\n",
              "      <td>2022-09-12 07:00:00</td>\n",
              "      <td>2022-09-12 08:00:00</td>\n",
              "      <td>203.0</td>\n",
              "      <td>0 days 01:00:00</td>\n",
              "      <td>9</td>\n",
              "      <td>0</td>\n",
              "    </tr>\n",
              "  </tbody>\n",
              "</table>\n",
              "<p>6105 rows × 6 columns</p>\n",
              "</div>"
            ],
            "text/plain": [
              "                   Start              Finish  Steps (count)            Time  \\\n",
              "0    2022-01-01 00:00:00 2022-01-01 01:00:00            0.0 0 days 01:00:00   \n",
              "1    2022-01-01 01:00:00 2022-01-01 02:00:00            0.0 0 days 01:00:00   \n",
              "2    2022-01-01 02:00:00 2022-01-01 03:00:00            0.0 0 days 01:00:00   \n",
              "3    2022-01-01 03:00:00 2022-01-01 04:00:00            0.0 0 days 01:00:00   \n",
              "4    2022-01-01 04:00:00 2022-01-01 05:00:00            0.0 0 days 01:00:00   \n",
              "...                  ...                 ...            ...             ...   \n",
              "6100 2022-09-12 03:00:00 2022-09-12 04:00:00            0.0 0 days 01:00:00   \n",
              "6101 2022-09-12 04:00:00 2022-09-12 05:00:00            0.0 0 days 01:00:00   \n",
              "6102 2022-09-12 05:00:00 2022-09-12 06:00:00           25.0 0 days 01:00:00   \n",
              "6103 2022-09-12 06:00:00 2022-09-12 07:00:00            0.0 0 days 01:00:00   \n",
              "6104 2022-09-12 07:00:00 2022-09-12 08:00:00          203.0 0 days 01:00:00   \n",
              "\n",
              "      month  day  \n",
              "0         1    5  \n",
              "1         1    5  \n",
              "2         1    5  \n",
              "3         1    5  \n",
              "4         1    5  \n",
              "...     ...  ...  \n",
              "6100      9    0  \n",
              "6101      9    0  \n",
              "6102      9    0  \n",
              "6103      9    0  \n",
              "6104      9    0  \n",
              "\n",
              "[6105 rows x 6 columns]"
            ]
          },
          "execution_count": 18,
          "metadata": {},
          "output_type": "execute_result"
        }
      ],
      "source": [
        "data[\"day\"] = data[\"Start\"].dt.weekday # finding month corresponding to each row\n",
        "data"
      ]
    },
    {
      "cell_type": "markdown",
      "metadata": {
        "id": "KYxiiQayieR4"
      },
      "source": [
        "We can see above that now we have a day column with numbers ranging from 0 to 6, where 0 refers to monday, 1 refers to tuesday, 2 refers to wednesday, 3 refers to thursday, 4 refers to friday, 5 refers to saturday, and 6 refers to sunday. Now, we are going to find the sum of step counts for each weekday and each weekend for a month."
      ]
    },
    {
      "cell_type": "code",
      "execution_count": null,
      "metadata": {
        "colab": {
          "base_uri": "https://localhost:8080/"
        },
        "id": "P2WYTOi1i0gK",
        "outputId": "5c0b6798-903a-4e82-e0b5-24704cab6830"
      },
      "outputs": [
        {
          "name": "stdout",
          "output_type": "stream",
          "text": [
            "[35931.99999999999, 42987.2, 45922.0, 46046.6, 50086.2, 39268.0, 43277.4, 51867.4, 23147.4]\n",
            "[13583.4, 14729.799999999997, 14606.2, 17147.0, 17284.4, 13289.2, 17546.399999999998, 18451.4, 7619.8]\n"
          ]
        }
      ],
      "source": [
        "monthlyWeekday = []\n",
        "monthlyWeekend = []\n",
        "for j in range(1, 10):\n",
        "  weekdayCount = 0 # creating a list for weekday counts for each month\n",
        "  weekendCount = 0 # creating a list for weekend counts for each month\n",
        "  filtered = data[(data['month'] == j) & (data['day'] < 7)]\n",
        "  for i in range(0, 6): # looping through each weekday\n",
        "    filt = filtered['day'] == i # filtering rows for each weekday\n",
        "    res = filtered.loc[filt].sum(axis=0, numeric_only=True) # filtering rows for each weekday and finding sum of step count\n",
        "    weekdayCount += res[0]\n",
        "  for i in range(5, 7): # looping through each weekend\n",
        "    filt = filtered['day'] == i # filtering rows for each weekend\n",
        "    res = filtered.loc[filt].sum(axis=0, numeric_only=True) # filtering rows for each weekend and finding sum of step count\n",
        "    weekendCount += res[0]\n",
        "  monthlyWeekday.append(weekdayCount/5) # adding the average step count\n",
        "  monthlyWeekend.append(weekendCount/5) # adding the average step count\n",
        "print(monthlyWeekday)\n",
        "print(monthlyWeekend)"
      ]
    },
    {
      "cell_type": "markdown",
      "metadata": {
        "id": "pIzPU8wXjdE2"
      },
      "source": [
        "The above results show the average number of steps for weekdays and weekends for each month.\n",
        "\n",
        "Now, I am going to add these results to a dataset."
      ]
    },
    {
      "cell_type": "code",
      "execution_count": null,
      "metadata": {
        "colab": {
          "base_uri": "https://localhost:8080/"
        },
        "id": "kWxpW5biqXhK",
        "outputId": "f517f5bf-e7e6-4915-e94c-86f6eecbaf2c"
      },
      "outputs": [
        {
          "name": "stdout",
          "output_type": "stream",
          "text": [
            "   month  weekday  weekend\n",
            "0      0  35932.0  13583.4\n",
            "1      1  42987.2  14729.8\n",
            "2      2  45922.0  14606.2\n",
            "3      3  46046.6  17147.0\n",
            "4      4  50086.2  17284.4\n",
            "5      5  39268.0  13289.2\n",
            "6      6  43277.4  17546.4\n",
            "7      7  51867.4  18451.4\n",
            "8      8  23147.4   7619.8\n"
          ]
        }
      ],
      "source": [
        "# IMP: this would only work for datasets where data is recorded only till september, which includes all other participant datasets\n",
        "index = [0, 1, 2, 3, 4, 5, 6, 7, 8]\n",
        "weekRes = {\"month\":index, \"weekday\":monthlyWeekday ,\"weekend\":monthlyWeekend}\n",
        "weeklyData = pd.DataFrame(weekRes) # converting monthly step counts to data frame\n",
        "print(weeklyData)"
      ]
    },
    {
      "cell_type": "markdown",
      "metadata": {
        "id": "cygXHbBLsG_b"
      },
      "source": [
        "The above results show the average step counts for weekday and weekends for each month.\n",
        "\n",
        "Now, I am going to create a bar plot which would show the step counts for each month."
      ]
    },
    {
      "cell_type": "code",
      "execution_count": null,
      "metadata": {
        "colab": {
          "base_uri": "https://localhost:8080/",
          "height": 527
        },
        "id": "sCbDzY1NsXK_",
        "outputId": "4c979ce4-fda0-4dec-cd38-5764fdef1087"
      },
      "outputs": [
        {
          "data": {
            "text/plain": [
              "<AxesSubplot:title={'center':'Average weekday and weekend step count for each month'}, xlabel='month'>"
            ]
          },
          "execution_count": 21,
          "metadata": {},
          "output_type": "execute_result"
        },
        {
          "data": {
            "image/png": "[encoded data removed]",
            "text/plain": [
              "<Figure size 504x576 with 1 Axes>"
            ]
          },
          "metadata": {
            "needs_background": "light"
          },
          "output_type": "display_data"
        }
      ],
      "source": [
        "weeklyData[['month', 'weekday', 'weekend']].plot(x='month', kind='bar', figsize=(7,8), title = \"Average weekday and weekend step count for each month\")"
      ]
    },
    {
      "cell_type": "markdown",
      "metadata": {
        "id": "RPt82cBHuQWF"
      },
      "source": [
        "From the above plot we can notice that for each month the average number of step counts for weekday is way higher than the average step count for weekends."
      ]
    },
    {
      "cell_type": "markdown",
      "metadata": {
        "id": "-pf76FE464d9"
      },
      "source": [
        "### Hypothesis test to confirm the results"
      ]
    },
    {
      "cell_type": "markdown",
      "metadata": {
        "id": "1zW_TLIzPEMV"
      },
      "source": [
        "\n",
        "\n",
        "In order to be sure if these means are significantly different or not, we would perform a hypothesis test."
      ]
    },
    {
      "cell_type": "markdown",
      "metadata": {
        "id": "3mw8JsuxQbFq"
      },
      "source": [
        "The first thing that we are going to do for this is create a new dataset with column for each month, and each row corresponding to the step count for each weekday for that particular month. Similarly we would create a new dataset for weekends."
      ]
    },
    {
      "cell_type": "code",
      "execution_count": null,
      "metadata": {
        "colab": {
          "base_uri": "https://localhost:8080/"
        },
        "id": "0KW9YACBPPwp",
        "outputId": "319a2230-0660-44d3-b76c-165ccf2be05a"
      },
      "outputs": [
        {
          "name": "stdout",
          "output_type": "stream",
          "text": [
            "   January  February    March    April      May     June     July   August  \\\n",
            "0  30075.0   33609.0  32530.0  33210.0  44522.0  38493.0  32863.0  53595.0   \n",
            "1  28351.0   32557.0  40463.0  30487.0  48313.0  21467.0  38562.0  43441.0   \n",
            "2  31052.0   37954.0  51631.0  29919.0  41851.0  36703.0  36032.0  49237.0   \n",
            "3  28984.0   34727.0  46420.0  39327.0  37203.0  37785.0  27891.0  29604.0   \n",
            "4  27430.0   32591.0  20125.0  43460.0  41536.0  24816.0  42780.0  29843.0   \n",
            "5  33768.0   43498.0  38441.0  53830.0  37006.0  37076.0  38259.0  53617.0   \n",
            "\n",
            "   September  \n",
            "0     9175.0  \n",
            "1    12428.0  \n",
            "2    22769.0  \n",
            "3    23133.0  \n",
            "4    27446.0  \n",
            "5    20786.0  \n"
          ]
        }
      ],
      "source": [
        "# weekdayMeans = weeklyData[\"weekday\"].values.tolist()\n",
        "monthlyWeekday = []\n",
        "monthlyWeekend = []\n",
        "for j in range(1, 10):\n",
        "  weekdayCount = [] # creating a list for weekday counts for each month\n",
        "  weekendCount = [] # creating a list for weekend counts for each month\n",
        "  filtered = data[(data['month'] == j) & (data['day'] < 7)]\n",
        "  for i in range(0, 6): # looping through each weekday\n",
        "    filt = filtered['day'] == i # filtering rows for each weekday\n",
        "    res = filtered.loc[filt].sum(axis=0, numeric_only=True) # filtering rows for each weekday and finding sum of step count\n",
        "    weekdayCount.append(res[0])\n",
        "  for i in range(5, 7): # looping through each weekend\n",
        "    filt = filtered['day'] == i # filtering rows for each weekend\n",
        "    res = filtered.loc[filt].sum(axis=0, numeric_only=True) # filtering rows for each weekend and finding sum of step count\n",
        "    weekendCount.append(res[0])\n",
        "  monthlyWeekday.append(weekdayCount) # adding the average step count\n",
        "  monthlyWeekend.append(weekendCount) # adding the average step count\n",
        "# print(len(monthlyWeekday[0]))\n",
        "# print(len(monthlyWeekday))\n",
        "# print(monthlyWeekend)\n",
        "\n",
        "weekdayDatasetList = []\n",
        "# Create dataset for weekdays\n",
        "for i in range(0,6):\n",
        "  temp = []\n",
        "  for j in range(0,9):\n",
        "    temp.append(monthlyWeekday[j][i])\n",
        "  weekdayDatasetList.append(temp)\n",
        "weekdayDataset = pd.DataFrame(weekdayDatasetList, columns=['January','February','March','April','May','June','July','August','September'])\n",
        "print(weekdayDataset)\n",
        "\n"
      ]
    },
    {
      "cell_type": "code",
      "execution_count": null,
      "metadata": {
        "colab": {
          "base_uri": "https://localhost:8080/"
        },
        "id": "kYBqLRV8VccS",
        "outputId": "87ee24e2-e7bd-4fa4-94b3-21b2e1ca346b"
      },
      "outputs": [
        {
          "name": "stdout",
          "output_type": "stream",
          "text": [
            "   January  February    March    April      May     June     July   August  \\\n",
            "0  33768.0   43498.0  38441.0  53830.0  37006.0  37076.0  38259.0  53617.0   \n",
            "1  34149.0   30151.0  34590.0  31905.0  49416.0  29370.0  49473.0  38640.0   \n",
            "\n",
            "   September  \n",
            "0    20786.0  \n",
            "1    17313.0  \n"
          ]
        }
      ],
      "source": [
        "weekendDatasetList = []\n",
        "# Create dataset for weekdays\n",
        "for i in range(0,2):\n",
        "  temp = []\n",
        "  for j in range(0,9):\n",
        "    temp.append(monthlyWeekend[j][i])\n",
        "  weekendDatasetList.append(temp)\n",
        "weekendDataset = pd.DataFrame(weekendDatasetList, columns=['January','February','March','April','May','June','July','August','September'])\n",
        "print(weekendDataset)"
      ]
    },
    {
      "cell_type": "markdown",
      "metadata": {
        "id": "tzjSALSpVeFJ"
      },
      "source": [
        "From the above code, we can see that we have the dataset as described on top for both weekdays and weekends for each month."
      ]
    },
    {
      "cell_type": "markdown",
      "metadata": {
        "id": "lMY6rTTj7Ch3"
      },
      "source": [
        "Now for the weekday dataset, we know that all the observations are independent of each other, as they are all recorded on separate days using the pedometer app on phone. Now, lets draw a box plot to check the distribution of the data for each month."
      ]
    },
    {
      "cell_type": "code",
      "execution_count": null,
      "metadata": {
        "colab": {
          "base_uri": "https://localhost:8080/",
          "height": 283
        },
        "id": "IKguRKcN3pXD",
        "outputId": "ccfc3d8a-847b-42d1-fb76-59f726d8e54e"
      },
      "outputs": [
        {
          "data": {
            "text/plain": [
              "<AxesSubplot:>"
            ]
          },
          "execution_count": 24,
          "metadata": {},
          "output_type": "execute_result"
        },
        {
          "data": {
            "image/png": "[encoded data removed]",
            "text/plain": [
              "<Figure size 648x288 with 1 Axes>"
            ]
          },
          "metadata": {
            "needs_background": "light"
          },
          "output_type": "display_data"
        }
      ],
      "source": [
        "# generate a boxplot to see the data distribution by treatments. Using boxplot, we can easily detect the differences\n",
        "# between different treatments\n",
        "weekdayDataset.boxplot(figsize = (9, 4))"
      ]
    },
    {
      "cell_type": "markdown",
      "metadata": {
        "id": "BEgaU_Z04XCs"
      },
      "source": [
        "From the above boxplot we can see that the data is normally distributed, and the variances for each month are almost equal. But just to be sure, we will perform a Shapiro-Wilk test to check if the data is normnally distributed or not for all the months. Null hypothesis for this test is that data is drawn from normal distribution."
      ]
    },
    {
      "cell_type": "code",
      "execution_count": null,
      "metadata": {
        "colab": {
          "base_uri": "https://localhost:8080/"
        },
        "id": "tate2kqs8H42",
        "outputId": "48319710-0256-4bb1-9b10-d008f8e9f890"
      },
      "outputs": [
        {
          "name": "stdout",
          "output_type": "stream",
          "text": [
            "[0.7201831936836243, 0.09397982060909271, 0.8765577077865601, 0.3602673411369324, 0.5845595598220825, 0.022565480321645737, 0.8951530456542969, 0.10765758901834488, 0.4326501786708832]\n"
          ]
        }
      ],
      "source": [
        "import scipy.stats as stats\n",
        "testResults = []\n",
        "w, pvalue = stats.shapiro(weekdayDataset['January'])\n",
        "testResults.append(pvalue)\n",
        "w, pvalue = stats.shapiro(weekdayDataset['February'])\n",
        "testResults.append(pvalue)\n",
        "w, pvalue = stats.shapiro(weekdayDataset['March'])\n",
        "testResults.append(pvalue)\n",
        "w, pvalue = stats.shapiro(weekdayDataset['April'])\n",
        "testResults.append(pvalue)\n",
        "w, pvalue = stats.shapiro(weekdayDataset['May'])\n",
        "testResults.append(pvalue)\n",
        "w, pvalue = stats.shapiro(weekdayDataset['June'])\n",
        "testResults.append(pvalue)\n",
        "w, pvalue = stats.shapiro(weekdayDataset['July'])\n",
        "testResults.append(pvalue)\n",
        "w, pvalue = stats.shapiro(weekdayDataset['August'])\n",
        "testResults.append(pvalue)\n",
        "w, pvalue = stats.shapiro(weekdayDataset['September'])\n",
        "testResults.append(pvalue)\n",
        "print(testResults)"
      ]
    },
    {
      "cell_type": "markdown",
      "metadata": {
        "id": "CtWdEpAp_a5K"
      },
      "source": [
        "At 1% significance level, as all the pvalues are greater than 0.01, we will not reject the null hypothesis and conclude that data is drawn from normal distribution. Now, we will perform a test to make sure that the data for all the months has equal varainces. For this we will use the Barlette's test with null hypothesis that the samples from populations have equal variances."
      ]
    },
    {
      "cell_type": "code",
      "execution_count": null,
      "metadata": {
        "colab": {
          "base_uri": "https://localhost:8080/"
        },
        "id": "3VAXgeA5AHLS",
        "outputId": "049355c8-3203-4b01-ad9f-7d60ddf52773"
      },
      "outputs": [
        {
          "name": "stdout",
          "output_type": "stream",
          "text": [
            "16.318786573666415 0.03803804181496905\n"
          ]
        }
      ],
      "source": [
        "import scipy.stats as stats\n",
        "w, pvalue = stats.bartlett(weekdayDataset['January'], weekdayDataset['February'], weekdayDataset['March'], weekdayDataset['April'], weekdayDataset['May'], weekdayDataset['June'], weekdayDataset['July'], weekdayDataset['August'], weekdayDataset['September'])\n",
        "print(w, pvalue)"
      ]
    },
    {
      "cell_type": "markdown",
      "metadata": {
        "id": "RZMhytU6AM2L"
      },
      "source": [
        "At 1% significance level, the pvalue is greater than 0.01, so we will not reject the null hypothesis and conclude that the data has equal variance for all the months."
      ]
    },
    {
      "cell_type": "markdown",
      "metadata": {
        "id": "RC9PphWOAtP9"
      },
      "source": [
        "Now lets perform the ANOVA test. "
      ]
    },
    {
      "cell_type": "markdown",
      "metadata": {
        "id": "MaQBe_wRPLX-"
      },
      "source": [
        "\n",
        "\n",
        "Null hypothesis: The mean step count for weekdays for each month is not significantly different.\n",
        "\n",
        "Alternate hypothesis: There is atleast one pair of months for which the mean step count for weekdays is significantly different.\n",
        "\n",
        "Assumptions: \n",
        "\n",
        "• Data is normally distributed.\n",
        "\n",
        "• Variances are equal between groups\n",
        "\n",
        "• Observations are sampled independently from each other \n",
        "\n",
        "All the assumptions for this test have been met as shown above."
      ]
    },
    {
      "cell_type": "markdown",
      "metadata": {
        "id": "1uXxlulPVnav"
      },
      "source": [
        "Now, lets perform the ANOVA test."
      ]
    },
    {
      "cell_type": "code",
      "execution_count": null,
      "metadata": {
        "colab": {
          "base_uri": "https://localhost:8080/"
        },
        "id": "69L6HdhqVqHi",
        "outputId": "7f7e67d3-a977-4b04-d60c-f8a6b2071844"
      },
      "outputs": [
        {
          "name": "stdout",
          "output_type": "stream",
          "text": [
            "5.537780493347995 6.845731749439133e-05\n"
          ]
        }
      ],
      "source": [
        "import scipy.stats as stats\n",
        "# stats f_oneway functions takes the groups as input and returns ANOVA F and p value\n",
        "fvalue, pvalue = stats.f_oneway(weekdayDataset['January'], weekdayDataset['February'], weekdayDataset['March'], weekdayDataset['April'], weekdayDataset['May'], weekdayDataset['June'], weekdayDataset['July'], weekdayDataset['August'], weekdayDataset['September'])\n",
        "print(fvalue, pvalue)"
      ]
    },
    {
      "cell_type": "markdown",
      "metadata": {
        "id": "EntBFTos18mu"
      },
      "source": [
        "Since the p-value is less than 0.01 at 1% significanvce level, we will reject the null hypothesis that the means for step count during weekdays are not significantly different."
      ]
    },
    {
      "cell_type": "markdown",
      "metadata": {
        "id": "StdTp_kRAie1"
      },
      "source": [
        "Now lets look at the weekend dataset. We know that all the observations are independent of each other, as they are all recorded on separate days using the pedometer app on phone. Now, lets draw a box plot to check the distribution of the data for each month."
      ]
    },
    {
      "cell_type": "code",
      "execution_count": null,
      "metadata": {
        "colab": {
          "base_uri": "https://localhost:8080/",
          "height": 284
        },
        "id": "i_SfYMaG5K0c",
        "outputId": "b4988bda-9565-44d3-923e-0c789300f7dd"
      },
      "outputs": [
        {
          "data": {
            "text/plain": [
              "<AxesSubplot:>"
            ]
          },
          "execution_count": 28,
          "metadata": {},
          "output_type": "execute_result"
        },
        {
          "data": {
            "image/png": "[encoded data removed]",
            "text/plain": [
              "<Figure size 648x288 with 1 Axes>"
            ]
          },
          "metadata": {
            "needs_background": "light"
          },
          "output_type": "display_data"
        }
      ],
      "source": [
        "# generate a boxplot to see the data distribution by treatments. Using boxplot, we can easily detect the differences\n",
        "# between different treatments\n",
        "weekendDataset.boxplot(figsize = (9, 4))"
      ]
    },
    {
      "cell_type": "markdown",
      "metadata": {
        "id": "WgfH1cxx5RY1"
      },
      "source": [
        "From the above boxplot we can see that the data is normally distributed, and the variances for each month are almost equal. "
      ]
    },
    {
      "cell_type": "markdown",
      "metadata": {
        "id": "Xpy8e6bG5Efl"
      },
      "source": [
        "Now lets perform the ANOVA test for weekend data.\n",
        "\n",
        "Null hypothesis: The mean step count for weekends for each month is not significantly different.\n",
        "\n",
        "Alternate hypothesis: There is atleast one pair of months for which the mean step count for weekends is significantly different.\n",
        "\n",
        "Assumptions:\n",
        "\n",
        "• Data is normally distributed.\n",
        "\n",
        "• Variances are equal between groups\n",
        "\n",
        "• Observations are sampled independently from each other\n",
        "\n",
        "We have proved above that the assumptions are met for this dataset."
      ]
    },
    {
      "cell_type": "markdown",
      "metadata": {
        "id": "THIfGohm5R4z"
      },
      "source": [
        "Now, lets perform the ANOVA test."
      ]
    },
    {
      "cell_type": "code",
      "execution_count": null,
      "metadata": {
        "colab": {
          "base_uri": "https://localhost:8080/"
        },
        "id": "JtyTH_ri5SBZ",
        "outputId": "5debcfa7-c5b0-486b-854b-7c8b78c49218"
      },
      "outputs": [
        {
          "name": "stdout",
          "output_type": "stream",
          "text": [
            "4.748163905342237 0.0003570344440247822\n"
          ]
        }
      ],
      "source": [
        "import scipy.stats as stats\n",
        "# stats f_oneway functions takes the groups as input and returns ANOVA F and p value\n",
        "fvalue, pvalue = stats.f_oneway(weekendDataset['January'], weekdayDataset['February'], weekdayDataset['March'], weekdayDataset['April'], weekdayDataset['May'], weekdayDataset['June'], weekdayDataset['July'], weekdayDataset['August'], weekdayDataset['September'])\n",
        "print(fvalue, pvalue)"
      ]
    },
    {
      "cell_type": "markdown",
      "metadata": {
        "id": "LERJQvDY5bBa"
      },
      "source": [
        "Since the p-value is less than 0.01 at 1% significanvce level, we will reject the null hypothesis that the means for step count during weekends are not significantly different."
      ]
    },
    {
      "cell_type": "code",
      "execution_count": null,
      "metadata": {},
      "outputs": [],
      "source": []
    }
  ],
  "metadata": {
    "colab": {
      "collapsed_sections": [],
      "provenance": []
    },
    "kernelspec": {
      "display_name": "Python 3.7.0 64-bit",
      "language": "python",
      "name": "python3"
    },
    "language_info": {
      "codemirror_mode": {
        "name": "ipython",
        "version": 3
      },
      "file_extension": ".py",
      "mimetype": "text/x-python",
      "name": "python",
      "nbconvert_exporter": "python",
      "pygments_lexer": "ipython3",
      "version": "3.7.0"
    },
    "vscode": {
      "interpreter": {
        "hash": "e534e48711db4d1e1c48977d0d14ff85b1f16d41bcc4fdfd88268a329b3c9d66"
      }
    }
  },
  "nbformat": 4,
  "nbformat_minor": 0
}
